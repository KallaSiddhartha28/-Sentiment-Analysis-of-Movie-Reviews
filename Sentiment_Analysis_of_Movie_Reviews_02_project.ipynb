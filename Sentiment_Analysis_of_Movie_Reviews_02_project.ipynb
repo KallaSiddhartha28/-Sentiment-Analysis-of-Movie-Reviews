{
  "nbformat": 4,
  "nbformat_minor": 0,
  "metadata": {
    "colab": {
      "provenance": [],
      "toc_visible": true
    },
    "kernelspec": {
      "name": "python3",
      "display_name": "Python 3"
    },
    "language_info": {
      "name": "python"
    }
  },
  "cells": [
    {
      "cell_type": "code",
      "execution_count": 9,
      "metadata": {
        "colab": {
          "base_uri": "https://localhost:8080/",
          "height": 106
        },
        "id": "QxK9oWGkD3Xt",
        "outputId": "07a1921e-e978-43b6-eb10-a7b14a606822"
      },
      "outputs": [
        {
          "output_type": "error",
          "ename": "SyntaxError",
          "evalue": "invalid character '│' (U+2502) (<ipython-input-9-20f3350c9359>, line 3)",
          "traceback": [
            "\u001b[0;36m  File \u001b[0;32m\"<ipython-input-9-20f3350c9359>\"\u001b[0;36m, line \u001b[0;32m3\u001b[0m\n\u001b[0;31m    │\u001b[0m\n\u001b[0m    ^\u001b[0m\n\u001b[0;31mSyntaxError\u001b[0m\u001b[0;31m:\u001b[0m invalid character '│' (U+2502)\n"
          ]
        }
      ],
      "source": [
        "# Project Structure\n",
        "sentiment_analysis/\n",
        "│\n",
        "├── app/\n",
        "│   ├── __init__.py\n",
        "│   ├── routes.py\n",
        "│   ├── static/\n",
        "│   └── templates/\n",
        "│       ├── index.html\n",
        "│       └── result.html\n",
        "├── model/\n",
        "│   ├── train_model.py\n",
        "│   └── sentiment_model.pkl\n",
        "├── data/\n",
        "│   └── imdb_reviews.csv\n",
        "├── app.py\n",
        "└── requirements.txt\n"
      ]
    },
    {
      "cell_type": "code",
      "source": [
        "# Dependencies (requirements.txt)\n",
        "Flask==2.1.1\n",
        "pandas==1.4.2\n",
        "scikit-learn==1.0.2\n",
        "nltk==3.7\n"
      ],
      "metadata": {
        "colab": {
          "base_uri": "https://localhost:8080/",
          "height": 106
        },
        "id": "5kn8yMZuD9v9",
        "outputId": "bcf654da-a9ca-4cea-a8fc-dd2b5374a891"
      },
      "execution_count": 10,
      "outputs": [
        {
          "output_type": "error",
          "ename": "SyntaxError",
          "evalue": "invalid syntax (<ipython-input-10-1645ffdf4aa9>, line 2)",
          "traceback": [
            "\u001b[0;36m  File \u001b[0;32m\"<ipython-input-10-1645ffdf4aa9>\"\u001b[0;36m, line \u001b[0;32m2\u001b[0m\n\u001b[0;31m    Flask==2.1.1\u001b[0m\n\u001b[0m              ^\u001b[0m\n\u001b[0;31mSyntaxError\u001b[0m\u001b[0;31m:\u001b[0m invalid syntax\n"
          ]
        }
      ]
    },
    {
      "cell_type": "code",
      "source": [
        "#Data Collection and Preprocessing\n",
        "#review, sentiment\n",
        "\"This movie was excellent!\", positive\n",
        "\"The plot was boring and predictable.\", negative\n"
      ],
      "metadata": {
        "colab": {
          "base_uri": "https://localhost:8080/",
          "height": 193
        },
        "id": "acPPpOkeD9-B",
        "outputId": "ebcc77a0-44c4-425c-fe84-e7b0d2c22036"
      },
      "execution_count": 11,
      "outputs": [
        {
          "output_type": "error",
          "ename": "NameError",
          "evalue": "name 'positive' is not defined",
          "traceback": [
            "\u001b[0;31m---------------------------------------------------------------------------\u001b[0m",
            "\u001b[0;31mNameError\u001b[0m                                 Traceback (most recent call last)",
            "\u001b[0;32m<ipython-input-11-69e3de1800a1>\u001b[0m in \u001b[0;36m<cell line: 3>\u001b[0;34m()\u001b[0m\n\u001b[1;32m      1\u001b[0m \u001b[0;31m#Data Collection and Preprocessing\u001b[0m\u001b[0;34m\u001b[0m\u001b[0;34m\u001b[0m\u001b[0m\n\u001b[1;32m      2\u001b[0m \u001b[0;31m#review, sentiment\u001b[0m\u001b[0;34m\u001b[0m\u001b[0;34m\u001b[0m\u001b[0m\n\u001b[0;32m----> 3\u001b[0;31m \u001b[0;34m\"This movie was excellent!\"\u001b[0m\u001b[0;34m,\u001b[0m \u001b[0mpositive\u001b[0m\u001b[0;34m\u001b[0m\u001b[0;34m\u001b[0m\u001b[0m\n\u001b[0m\u001b[1;32m      4\u001b[0m \u001b[0;34m\"The plot was boring and predictable.\"\u001b[0m\u001b[0;34m,\u001b[0m \u001b[0mnegative\u001b[0m\u001b[0;34m\u001b[0m\u001b[0;34m\u001b[0m\u001b[0m\n",
            "\u001b[0;31mNameError\u001b[0m: name 'positive' is not defined"
          ]
        }
      ]
    },
    {
      "cell_type": "code",
      "source": [
        "#Model Training (model/train_model.py)\n",
        "import pandas as pd\n",
        "import numpy as np\n",
        "from sklearn.model_selection import train_test_split\n",
        "from sklearn.feature_extraction.text import TfidfVectorizer\n",
        "from sklearn.linear_model import LogisticRegression\n",
        "from sklearn.metrics import accuracy_score, precision_score, recall_score, f1_score\n",
        "import joblib\n",
        "import nltk\n",
        "from nltk.corpus import stopwords\n",
        "import re\n",
        "\n",
        "nltk.download('stopwords')\n",
        "\n",
        "# Load dataset\n",
        "data = pd.read_csv('../data/imdb_reviews.csv')\n",
        "\n",
        "# Preprocess data\n",
        "def preprocess_text(text):\n",
        "    text = re.sub(r'\\W', ' ', text)\n",
        "    text = text.lower()\n",
        "    text = text.split()\n",
        "    text = [word for word in text if word not in set(stopwords.words('english'))]\n",
        "    text = ' '.join(text)\n",
        "    return text\n",
        "\n",
        "data['review'] = data['review'].apply(preprocess_text)\n",
        "\n",
        "# Feature extraction\n",
        "tfidf = TfidfVectorizer(max_features=5000)\n",
        "X = tfidf.fit_transform(data['review']).toarray()\n",
        "y = data['sentiment'].apply(lambda x: 1 if x == 'positive' else 0).values\n",
        "\n",
        "# Train-test split\n",
        "X_train, X_test, y_train, y_test = train_test_split(X, y, test_size=0.2, random_state=0)\n",
        "\n",
        "# Model building\n",
        "model = LogisticRegression()\n",
        "model.fit(X_train, y_train)\n",
        "\n",
        "# Evaluation\n",
        "y_pred = model.predict(X_test)\n",
        "print(f'Accuracy: {accuracy_score(y_test, y_pred)}')\n",
        "print(f'Precision: {precision_score(y_test, y_pred)}')\n",
        "print(f'Recall: {recall_score(y_test, y_pred)}')\n",
        "print(f'F1-Score: {f1_score(y_test, y_pred)}')\n",
        "\n",
        "# Save model and vectorizer\n",
        "joblib.dump(model, '../model/sentiment_model.pkl')\n",
        "joblib.dump(tfidf, '../model/tfidf_vectorizer.pkl')\n"
      ],
      "metadata": {
        "id": "B-XRR54gD-LT"
      },
      "execution_count": null,
      "outputs": []
    },
    {
      "cell_type": "code",
      "source": [
        "# Flask Application (app/routes.py)\n",
        "from flask import Flask, render_template, request\n",
        "import joblib\n",
        "import re\n",
        "import nltk\n",
        "from nltk.corpus import stopwords\n",
        "\n",
        "nltk.download('stopwords')\n",
        "\n",
        "app = Flask(__name__)\n",
        "\n",
        "model = joblib.load('model/sentiment_model.pkl')\n",
        "tfidf = joblib.load('model/tfidf_vectorizer.pkl')\n",
        "\n",
        "def preprocess_text(text):\n",
        "    text = re.sub(r'\\W', ' ', text)\n",
        "    text = text.lower()\n",
        "    text = text.split()\n",
        "    text = [word for word in text if word not in set(stopwords.words('english'))]\n",
        "    text = ' '.join(text)\n",
        "    return text\n",
        "\n",
        "@app.route('/')\n",
        "def index():\n",
        "    return render_template('index.html')\n",
        "\n",
        "@app.route('/predict', methods=['POST'])\n",
        "def predict():\n",
        "    review = request.form['review']\n",
        "    processed_review = preprocess_text(review)\n",
        "    vectorized_review = tfidf.transform([processed_review])\n",
        "    prediction = model.predict(vectorized_review)[0]\n",
        "    sentiment = 'positive' if prediction == 1 else 'negative'\n",
        "    return render_template('result.html', review=review, sentiment=sentiment)\n",
        "\n",
        "if __name__ == '__main__':\n",
        "    app.run(debug=True)\n"
      ],
      "metadata": {
        "colab": {
          "base_uri": "https://localhost:8080/",
          "height": 401
        },
        "id": "hTERLcWsD4VF",
        "outputId": "33ece2ca-102d-4f8f-d82f-6f38192b21d3"
      },
      "execution_count": 12,
      "outputs": [
        {
          "output_type": "stream",
          "name": "stderr",
          "text": [
            "[nltk_data] Downloading package stopwords to /root/nltk_data...\n",
            "[nltk_data]   Package stopwords is already up-to-date!\n"
          ]
        },
        {
          "output_type": "error",
          "ename": "FileNotFoundError",
          "evalue": "[Errno 2] No such file or directory: 'model/sentiment_model.pkl'",
          "traceback": [
            "\u001b[0;31m---------------------------------------------------------------------------\u001b[0m",
            "\u001b[0;31mFileNotFoundError\u001b[0m                         Traceback (most recent call last)",
            "\u001b[0;32m<ipython-input-12-36f327b484d8>\u001b[0m in \u001b[0;36m<cell line: 12>\u001b[0;34m()\u001b[0m\n\u001b[1;32m     10\u001b[0m \u001b[0mapp\u001b[0m \u001b[0;34m=\u001b[0m \u001b[0mFlask\u001b[0m\u001b[0;34m(\u001b[0m\u001b[0m__name__\u001b[0m\u001b[0;34m)\u001b[0m\u001b[0;34m\u001b[0m\u001b[0;34m\u001b[0m\u001b[0m\n\u001b[1;32m     11\u001b[0m \u001b[0;34m\u001b[0m\u001b[0m\n\u001b[0;32m---> 12\u001b[0;31m \u001b[0mmodel\u001b[0m \u001b[0;34m=\u001b[0m \u001b[0mjoblib\u001b[0m\u001b[0;34m.\u001b[0m\u001b[0mload\u001b[0m\u001b[0;34m(\u001b[0m\u001b[0;34m'model/sentiment_model.pkl'\u001b[0m\u001b[0;34m)\u001b[0m\u001b[0;34m\u001b[0m\u001b[0;34m\u001b[0m\u001b[0m\n\u001b[0m\u001b[1;32m     13\u001b[0m \u001b[0mtfidf\u001b[0m \u001b[0;34m=\u001b[0m \u001b[0mjoblib\u001b[0m\u001b[0;34m.\u001b[0m\u001b[0mload\u001b[0m\u001b[0;34m(\u001b[0m\u001b[0;34m'model/tfidf_vectorizer.pkl'\u001b[0m\u001b[0;34m)\u001b[0m\u001b[0;34m\u001b[0m\u001b[0;34m\u001b[0m\u001b[0m\n\u001b[1;32m     14\u001b[0m \u001b[0;34m\u001b[0m\u001b[0m\n",
            "\u001b[0;32m/usr/local/lib/python3.10/dist-packages/joblib/numpy_pickle.py\u001b[0m in \u001b[0;36mload\u001b[0;34m(filename, mmap_mode)\u001b[0m\n\u001b[1;32m    648\u001b[0m             \u001b[0mobj\u001b[0m \u001b[0;34m=\u001b[0m \u001b[0m_unpickle\u001b[0m\u001b[0;34m(\u001b[0m\u001b[0mfobj\u001b[0m\u001b[0;34m)\u001b[0m\u001b[0;34m\u001b[0m\u001b[0;34m\u001b[0m\u001b[0m\n\u001b[1;32m    649\u001b[0m     \u001b[0;32melse\u001b[0m\u001b[0;34m:\u001b[0m\u001b[0;34m\u001b[0m\u001b[0;34m\u001b[0m\u001b[0m\n\u001b[0;32m--> 650\u001b[0;31m         \u001b[0;32mwith\u001b[0m \u001b[0mopen\u001b[0m\u001b[0;34m(\u001b[0m\u001b[0mfilename\u001b[0m\u001b[0;34m,\u001b[0m \u001b[0;34m'rb'\u001b[0m\u001b[0;34m)\u001b[0m \u001b[0;32mas\u001b[0m \u001b[0mf\u001b[0m\u001b[0;34m:\u001b[0m\u001b[0;34m\u001b[0m\u001b[0;34m\u001b[0m\u001b[0m\n\u001b[0m\u001b[1;32m    651\u001b[0m             \u001b[0;32mwith\u001b[0m \u001b[0m_read_fileobject\u001b[0m\u001b[0;34m(\u001b[0m\u001b[0mf\u001b[0m\u001b[0;34m,\u001b[0m \u001b[0mfilename\u001b[0m\u001b[0;34m,\u001b[0m \u001b[0mmmap_mode\u001b[0m\u001b[0;34m)\u001b[0m \u001b[0;32mas\u001b[0m \u001b[0mfobj\u001b[0m\u001b[0;34m:\u001b[0m\u001b[0;34m\u001b[0m\u001b[0;34m\u001b[0m\u001b[0m\n\u001b[1;32m    652\u001b[0m                 \u001b[0;32mif\u001b[0m \u001b[0misinstance\u001b[0m\u001b[0;34m(\u001b[0m\u001b[0mfobj\u001b[0m\u001b[0;34m,\u001b[0m \u001b[0mstr\u001b[0m\u001b[0;34m)\u001b[0m\u001b[0;34m:\u001b[0m\u001b[0;34m\u001b[0m\u001b[0;34m\u001b[0m\u001b[0m\n",
            "\u001b[0;31mFileNotFoundError\u001b[0m: [Errno 2] No such file or directory: 'model/sentiment_model.pkl'"
          ]
        }
      ]
    },
    {
      "cell_type": "code",
      "source": [
        "#app/templates/index.html\n",
        "<!DOCTYPE html>\n",
        "<html lang=\"en\">\n",
        "<head>\n",
        "    <meta charset=\"UTF-8\">\n",
        "    <title>Movie Review Sentiment Analysis</title>\n",
        "</head>\n",
        "<body>\n",
        "    <h1>Movie Review Sentiment Analysis</h1>\n",
        "    <form action=\"/predict\" method=\"post\">\n",
        "        <textarea name=\"review\" rows=\"10\" cols=\"50\"></textarea><br>\n",
        "        <input type=\"submit\" value=\"Analyze Sentiment\">\n",
        "    </form>\n",
        "</body>\n",
        "</html>\n"
      ],
      "metadata": {
        "id": "25CcCBPCEPyl"
      },
      "execution_count": null,
      "outputs": []
    },
    {
      "cell_type": "code",
      "source": [
        "#app/templates/result.html\n",
        "<!DOCTYPE html>\n",
        "<html lang=\"en\">\n",
        "<head>\n",
        "    <meta charset=\"UTF-8\">\n",
        "    <title>Sentiment Result</title>\n",
        "</head>\n",
        "<body>\n",
        "    <h1>Sentiment Result</h1>\n",
        "    <p>Review: {{ review }}</p>\n",
        "    <p>Sentiment: {{ sentiment }}</p>\n",
        "    <a href=\"/\">Analyze another review</a>\n",
        "</body>\n",
        "</html>\n"
      ],
      "metadata": {
        "id": "RisswqfLET96"
      },
      "execution_count": null,
      "outputs": []
    },
    {
      "cell_type": "code",
      "source": [
        " #Flask Application Entry Point (app.py)\n",
        "from app import app\n",
        "\n",
        "if __name__ == '__main__':\n",
        "    app.run(debug=True)\n"
      ],
      "metadata": {
        "id": "4vlPSyUHEXrK"
      },
      "execution_count": null,
      "outputs": []
    }
  ]
}